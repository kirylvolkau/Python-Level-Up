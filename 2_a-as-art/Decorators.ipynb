{
 "cells": [
  {
   "cell_type": "markdown",
   "metadata": {},
   "source": [
    "### Task 1 - function, working as functools.wraps "
   ]
  },
  {
   "cell_type": "code",
   "execution_count": null,
   "metadata": {},
   "outputs": [],
   "source": [
    "def wraps(to_be_decorated):\n",
    "  def wrapper(*args, **kwargs):\n",
    "    wrappor = to_be_decorated\n",
    "    wrappor.__name__ = to_be_decorated.__name__\n",
    "    wrappor.__module__ = to_be_decorated.__module__\n",
    "    wrappor.__doc__ = to_be_decorated.__doc__\n",
    "    wrappor.__qualname__ = to_be_decorated.__qualname__\n",
    "    wrappor.__annotations__ = to_be_decorated.__annotations__\n",
    "    return wrappor\n",
    "  return wrapper"
   ]
  },
  {
   "cell_type": "markdown",
   "metadata": {},
   "source": [
    "### Task 2 - function, checking if dict() has all values needed"
   ]
  },
  {
   "cell_type": "code",
   "execution_count": null,
   "metadata": {},
   "outputs": [],
   "source": [
    "def is_correct(*args):\n",
    "  def wrap_func(f):\n",
    "    res = f()\n",
    "    for i in args:\n",
    "      if i not in res :\n",
    "        return lambda: None\n",
    "    return f\n",
    "  return wrap_func"
   ]
  },
  {
   "cell_type": "markdown",
   "metadata": {},
   "source": [
    "### Task 3 - function, adding `date` to the dictonary"
   ]
  },
  {
   "cell_type": "code",
   "execution_count": null,
   "metadata": {},
   "outputs": [],
   "source": [
    "def add_date(format):\n",
    "  def func_wrap(func, *args):\n",
    "    def more_wraps(a=None):\n",
    "      result = func() if a is None else func(a)\n",
    "      result['date'] = datetime.datetime.now().strftime(format)\n",
    "      return result\n",
    "    return more_wraps\n",
    "  return func_wrap"
   ]
  },
  {
   "cell_type": "code",
   "execution_count": null,
   "metadata": {},
   "outputs": [],
   "source": []
  }
 ],
 "metadata": {
  "kernelspec": {
   "display_name": "Python 3",
   "language": "python",
   "name": "python3"
  },
  "language_info": {
   "codemirror_mode": {
    "name": "ipython",
    "version": 3
   },
   "file_extension": ".py",
   "mimetype": "text/x-python",
   "name": "python",
   "nbconvert_exporter": "python",
   "pygments_lexer": "ipython3",
   "version": "3.7.3"
  }
 },
 "nbformat": 4,
 "nbformat_minor": 4
}